{
 "cells": [
  {
   "cell_type": "code",
   "execution_count": 2,
   "metadata": {},
   "outputs": [],
   "source": [
    "import pandas as pd\n",
    "\n",
    "df_backstreetboys = pd.read_csv('Dados\\Backstreet_Boys_Lyrics_score.csv') \n",
    "df_backstreetboys = df_backstreetboys.drop(columns=[\"Unnamed: 0\", \"Unnamed: 0.1\"]) # Remove colunas desnecessárias\n",
    "\n",
    "df_arcticmonkeys = pd.read_csv('Dados\\lyrics.csv')"
   ]
  },
  {
   "cell_type": "code",
   "execution_count": 3,
   "metadata": {},
   "outputs": [],
   "source": [
    "# Divide o dataset em 2, um para cada banda\n",
    "df_bb_treino = df_backstreetboys.iloc[:50] # Seleciona as primeiras linhas do dataset\n",
    "df_bb_teste = df_backstreetboys.iloc[50:100] # Seleciona as últimas linhas do dataset\n",
    "\n",
    "df_am_treino = df_arcticmonkeys.iloc[:50] # Seleciona as primeiras linhas do dataset\n",
    "df_am_teste = df_arcticmonkeys.iloc[50:100] # Seleciona as últimas linhas do dataset"
   ]
  },
  {
   "cell_type": "code",
   "execution_count": 4,
   "metadata": {},
   "outputs": [],
   "source": [
    "# Probabilidade de ser de cada banda\n",
    "\n",
    "p_am = len(df_am_treino) / (len(df_am_treino) + len(df_bb_treino))\n",
    "p_bb = len(df_bb_treino) / (len(df_am_treino) + len(df_bb_treino))"
   ]
  },
  {
   "cell_type": "code",
   "execution_count": 18,
   "metadata": {},
   "outputs": [
    {
     "name": "stdout",
     "output_type": "stream",
     "text": [
      "{'you': 45, 've': 21, 'never': 21, 'met': 1, 'before': 8, 'but': 33, 'still': 6, 'she': 18, 'greets': 2, 'like': 21, 'a': 42, 'long': 5, 'lost': 3, 'rock': 1, 'n': 2, 'roll': 2, 's': 36, 'definitely': 1, 'one': 17, 'of': 38, 'those': 10, 'where': 15, 'll': 17, 'go': 11, 'wherever': 1, 'goes': 4, 'and': 46, 'with': 20, 'my': 25, 'body': 1, 'on': 41, 'mind': 9, 'both': 2, 'stop': 3, 'talking': 5, 'at': 14, 'the': 48, 'exact': 1, 'same': 3, 'time': 13, 'trying': 7, 'to': 47, 'think': 9, 'ways': 2, 'make': 14, 'her': 15, 'mine': 4, 'they': 19, 're': 28, 'difficult': 1, 'find': 5, 'it': 38, 'not': 22, 'what': 20, 'i': 43, 'need': 5, 'no': 23, 'your': 34, 'love': 15, 'so': 22, 'don': 19, 't': 33, 'give': 6, 'me': 29, 'said': 14, 'oh': 21, 'well': 16, 'know': 18, 'this': 14, 'will': 11, 'sound': 3, 'cold': 3, 'really': 4, 'have': 18, 'that': 34, 'm': 22, 'free': 2, 'there': 24, 'nowhere': 3, 'be': 27, 'just': 24, 'bridge': 18, 'baby': 10, 'how': 18, 'can': 21, 'believe': 6, 'when': 25, 'luck': 2, 'point': 3, 'sticking': 1, 'plan': 2, 'come': 9, 'unstuck': 1, '3': 14, 'more': 7, 'hunger': 1, 'than': 6, 'thirst': 1, 'break': 10, 'heart': 9, 'second': 1, 'about': 4, 'first': 5, 'looks': 4, 'equipped': 1, 'leave': 5, 'in': 41, 'lurch': 1, 'd': 15, 'let': 7, 'do': 19, 'worst': 2, 'hard': 8, 'tell': 10, 'obvious': 1, 'other': 4, 'angels': 1, 'faces': 5, 'fell': 2, 'told': 5, 'him': 5, 'had': 11, 'swapped': 1, 'wings': 1, 'overcoat': 1, 'for': 24, 'something': 7, 'colourful': 1, 'tha': 2, 'knows': 3, 'foreign': 1, 'place': 8, 'saving': 1, 'grace': 2, 'was': 18, 'feeling': 4, 'he': 15, 'stealing': 1, 'ready': 1, 'impress': 2, 'fierce': 1, 'excitement': 4, 'eyes': 12, 'are': 19, 'bright': 1, 'couldn': 5, 'wait': 3, 'get': 18, 'away': 15, 'bet': 1, 'juliet': 1, 'icing': 1, 'cake': 1, 'mistake': 3, 'even': 5, 'if': 22, 'somehow': 1, 'we': 13, 'could': 16, 'shown': 1, 'wanted': 4, 'sure': 7, 'made': 9, 'bit': 4, 'better': 4, 'own': 8, 'million': 2, 'people': 1, 'stay': 3, 'touch': 1, 'all': 32, 'little': 10, 'promises': 1, 'mean': 5, 'much': 5, 'memories': 1, 'hope': 4, 'holding': 1, 'hands': 3, 'by': 16, 'new': 5, 'year': 2, 'eve': 2, 'far': 5, 'too': 6, 'easy': 3, 'true': 5, 'romance': 1, 'achieved': 1, 'these': 7, 'days': 7, 'only': 9, 'ones': 6, 'who': 10, 'arabella': 1, 'got': 25, 'some': 6, 'interstellar': 1, 'gator': 1, 'skin': 1, 'boots': 3, 'an': 9, 'helter': 1, 'skelter': 1, 'round': 2, 'finger': 3, 'ride': 2, 'endlessly': 2, 'barbarella': 1, 'silver': 1, 'swimsuit': 1, 'needs': 1, 'shelter': 1, 'from': 14, 'reality': 1, 'takes': 1, 'dip': 1, 'daydreams': 1, 'end': 3, 'best': 3, 'sunset': 1, 'gets': 2, 'itself': 1, 'behind': 5, 'lady': 2, 'sittin': 2, 'passenger': 1, 'side': 6, 'less': 2, 'picturesque': 1, 'without': 5, 'catchin': 1, 'light': 4, 'horizon': 1, 'tries': 1, 'as': 22, 'kind': 4, 'post': 4, 'might’ve': 1, 'tapped': 1, 'into': 6, 'soul': 3, '70s': 2, 'head': 2, 'modern': 1, 'lover': 1, 'exploration': 1, 'outer': 1, 'space': 2, 'lips': 2, 'galaxy': 1, 'edge': 2, 'kiss': 6, 'colour': 1, 'constellation': 1, 'fallin': 1, 'magic': 2, 'cheetah': 1, 'print': 1, 'coat': 2, 'slip': 1, 'underneath': 2, 'asking': 1, 'organic': 1, 'cigarettes': 1, 'smokes': 1, 'wraps': 1, 'mexican': 1, 'coke': 2, 'makes': 4, 'wish': 3, 'were': 8, 'bottle': 2, 'sip': 2, 'sounds': 3, 'guitar': 1, 'solo': 1, 'outro': 19, 'out': 25, 'way': 9, 'mister': 1, 'short': 1, 'sharp': 1, 'tips': 1, 'won': 7, 'read': 2, 'right': 7, 'now': 10, 'hey': 2, 'send': 3, 'shiver': 1, 'down': 10, 'spine': 1, 'looking': 6, 'pretty': 4, 'suspicious': 1, 'probably': 2, 'planning': 2, 'heist': 1, 'wanting': 2, 'strippers': 1, 'feel': 6, 'nice': 3, 'cigarette': 1, 'smoke': 3, 'yeah': 12, 'watching': 2, 'stripper': 1, 'smacking': 1, 'bloke': 1, 'here': 7, 'tonight': 7, 'stopped': 3, 'panda': 1, 'speeding': 1, 'his': 10, 'flashing': 3, 'digital': 1, 'cameras': 1, 'tourists': 1, 'trafalgar': 1, 'square': 1, 'snortin': 1, 'off': 13, 'thighs': 1, 'blah': 1, 'see': 10, 'lalalalalala': 1, 'laaaaaaaoooo': 1, 'owww': 1, 'topless': 1, 'models': 1, 'doing': 2, 'semaphore': 1, 'wave': 1, 'their': 9, 'flags': 1, 'walks': 1, 'ignored': 1, 'illuminations': 1, 'rainy': 3, 'day': 10, 'footsteps': 1, 'sing': 3, 'reckless': 2, 'serenade': 1, 'been': 16, 'figure': 2, 'exactly': 3, 'is': 20, 'called': 2, 'up': 21, 'listen': 4, 'voice': 4, 'reason': 4, 'answering': 1, 'machine': 4, 'type': 3, 'kisses': 3, 'teeth': 1, 'collide': 1, 'laughs': 1, 'heavens': 1, 'hum': 1, 'stun': 1, 'gun': 1, 'lullaby': 1, 'twinkling': 1, 'vixens': 1, 'shining': 1, 'spiral': 1, 'hypnosis': 1, 'unnoticed': 1, 'walking': 2, 'left': 7, 'message': 2, 'did': 4, 'fuck': 3, 'back': 18, 'stuck': 1, 'wondering': 2, 'meant': 3, 'singing': 2, 'lately': 1, 'seeing': 2, 'things': 8, 'belly': 1, 'button': 1, 'piercings': 1, 'sky': 4, 'night': 9, 'rain': 2, 'anybody': 2, 'cabriolet': 1, 'games': 1, 'gonna': 7, 'lose': 4, 'wanna': 4, 'play': 2, 'case': 1, 'getting': 3, 'dark': 7, 'sticky': 2, 'black': 4, 'treacle': 1, 'tar': 1, 'somebody': 2, 'stars': 3, 'coming': 2, 'found': 2, 'hide': 4, 'does': 3, 'help': 2, 'late': 4, 'concentrate': 1, 'tune': 2, 'chew': 1, 'chin': 3, 'am': 4, 'ruining': 1, 'fun': 2, 'talk': 6, 'alright': 7, 'walk': 4, 'or': 10, 'catch': 3, 'train': 2, 'want': 16, 'any': 3, 'wiser': 1, 'sundance': 1, 'kid': 2, 'synthesiser': 1, 'tried': 3, 'last': 7, 'pack': 2, 'laugh': 5, 'key': 2, 'under': 2, 'mat': 1, 'seems': 3, 'strokes': 1, 'look': 7, 'mess': 1, 'hitchhiking': 1, 'monogrammed': 1, 'suitcase': 1, 'miles': 2, 'half': 5, 'useful': 1, 'imaginary': 2, 'highway': 1, 'big': 3, 'name': 3, 'deep': 3, 'ask': 2, 'mates': 1, 'golden': 1, 'boy': 3, 'bad': 3, 'shape': 1, 'ain': 2, 'dolls': 1, 'everybody': 4, 'barge': 1, 'floating': 1, 'endless': 1, 'stream': 1, 'great': 1, 'tv': 1, '984': 1, '0': 1, '9': 1, 'pre': 2, 'maybe': 2, 'wild': 1, 'rocket': 1, 'ship': 1, 'grease': 1, 'cracks': 2, 'knuckles': 1, 'karate': 2, 'bandana': 1, 'warp': 1, 'speed': 1, 'chic': 1, 'hair': 4, 'impressive': 1, 'moustache': 1, 'came': 5, 'twist': 1, 'cap': 1, 'swig': 1, 'hot': 3, 'lap': 1, 'call': 5, 'martini': 1, 'police': 1, 'isn': 3, 'took': 2, 'forever': 2, 'ghosts': 1, 'thought': 6, 'forget': 1, 'then': 10, 'haunt': 2, 'via': 1, 'rear': 1, 'view': 1, 'mirror': 1, 'drive': 2, 'seat': 3, 'cause': 9, 'recognise': 1, 'should': 5, 'heavy': 2, 'weather': 2, 'ugly': 1, 'pull': 2, 'over': 4, 'apparition': 1, 'cheap': 1, 'date': 1, 'drinking': 3, 'jukebox': 1, 'corner': 2, 'summer': 1, 'film': 1, 'wall': 2, 'enough': 5, 'dance': 1, 'seen': 5, 'blade': 1, 'runner': 1, 'earth': 1, 'lounge': 1, 'singer': 1, 'shimmer': 2, 'elevator': 1, 'residency': 1, 'honeymoon': 1, 'suite': 1, 'two': 6, 'shows': 1, 'four': 1, 'nights': 4, 'week': 1, 'money': 1, 'absolutely': 3, 'gaze': 4, 'skyward': 1, 'early': 1, 'star': 2, 'treatment': 1, 'fools': 2, 'parade': 1, 'cavort': 1, 'carry': 1, 'waiting': 2, 'would': 4, 'rather': 1, 'beside': 2, 'front': 2, 'hollowed': 1, 'stares': 1, 'swam': 1, 'phantasm': 1, 'grabbed': 1, 'hand': 4, 'very': 6, 'clear': 1, 'nothing': 5, 'us': 12, 'magnolia': 1, 'celebration': 1, 'attended': 2, 'wednesday': 1, 'reputation': 1, 'miserable': 2, 'tyke': 1, 'least': 2, 'conclusion': 1, 'overture': 1, 'secret': 1, 'door': 2, 'swings': 1, 'saying': 3, 'giggling': 1, 'along': 2, 'arms': 6, 'folded': 2, 'most': 1, 'indignant': 1, 'soon': 3, 'squint': 2, 'order': 1, 'butler': 1, 'pushing': 1, 'bookshelf': 1, 'unveiling': 1, 'unexpected': 1, 'earlier': 1, 'reluctant': 1, 'suddenly': 3, 'embarrassed': 1, 'corrected': 1, 'such': 2, 'creature': 1, 'survive': 1, 'habitat': 1, 'wouldn': 3, 'notice': 1, 'completely': 1, 'occupied': 2, 'frolic': 1, 'turn': 4, 'scribble': 1, 'page': 1, 'picture': 1, 'holds': 1, 'absence': 1, 'daft': 1, 'care': 2, 'conduct': 1, 'h': 1, 'p': 1, 'lovecraft': 1, 'edgar': 1, 'allan': 1, 'poe': 1, 'unkind': 1, 'ravens': 1, 'murder': 1, 'crows': 1, 'catty': 1, 'eyelashes': 1, 'dracula': 1, 'cape': 1, 'triple': 1, 'passes': 1, 'cemetery': 1, 'gates': 1, 'babe': 2, 'refrain': 2, 'mysterious': 1, 'obsession': 1, 'death': 2, 'saw': 1, 'driving': 1, 'prius': 1, 'munster': 1, 'koach': 1, 'esque': 1, 'watch': 2, 'italian': 1, 'horror': 1, 'scores': 1, 'leather': 2, 'cladded': 1, 'spike': 1, 'collared': 1, 'fours': 1, 'sunshine': 1, 'tear': 1, 'apart': 3, 'shun': 1, 'daylight': 1, 'willing': 2, 'start': 1, 'allen': 1, 'thing': 4, 'take': 8, 'wedding': 2, 'ring': 3, 'won’t': 1, 'easier': 3, 'might': 7, 'worse': 1, 'whirlwind': 1, 'somebodies': 1, 'girlfriend': 1, 'it’s': 1, 'she’s': 1, 'he’s': 1, 'slap': 1, 'try': 6, 'attack': 1, 'jealous': 1, 'excuse': 1, 'i’m': 1, 'there’s': 1, 'excuses': 3, 'that’s': 1, 'say': 9, 'i’ve': 1, 'capers': 1, 'good': 8, 'ignore': 2, 'entirely': 1, 'ah': 1, 'aka': 1, 'sudden': 1, 'disheartener': 1, 'partner’s': 1, 'don’t': 2, 'murmurs': 1, 'confirm': 1, 'tragedy': 2, 'knew': 5, 'anyone': 2, 'wants': 5, 'struggling': 2, 'immediate': 1, 'response': 1, '“i': 1, 'min': 1, 'it’d': 1, 'waste': 3, 'fine”': 1, '“really': 1, 'occurred': 1, 'destroy': 1, 'invitation': 1, 'carried': 1, 'suggesting': 1, 'struggled': 1, 'refuse': 1, 'its': 5, 'red': 3, 'wine': 2, 'jesus': 1, 'spa': 1, 'filling': 1, 'information': 1, 'form': 3, 'mama': 1, 'done': 4, 'popping': 1, 'protest': 1, 'song': 1, 'bender': 1, 'prophetic': 1, 'esplanade': 1, 'ponder': 1, 'questions': 2, 'manage': 1, 'miss': 1, 'mark': 3, 'hoo': 1, 'afternoon': 3, 'tranquility': 1, 'base': 1, 'hotel': 2, 'casino': 1, 'speaking': 1, 'please': 3, 'may': 2, 'direct': 2, 'magical': 1, 'thinking': 4, 'feels': 3, 'answers': 1, 'remember': 1, 'went': 1, 'wrong': 4, 'technological': 1, 'advances': 1, 'bloody': 1, 'mood': 1, 'close': 4, 'crisp': 1, 'moon': 2, 'boob': 1, 'celebrate': 1, 'house': 3, 'ever': 4, 'spent': 1, 'generation': 1, 'everything': 2, 'emotion': 1, 'because': 6, 'girl': 6, 'act': 1, 'different': 3, 'around': 9, 'hold': 8, 'going': 6, 'home': 2, 'alone': 1, 'gave': 1, 'outside': 2, 'cafe': 1, 'cracker': 2, 'factory': 1, 'practicing': 2, 'trick': 3, 'thoughts': 1, 'rude': 1, 'talked': 2, 'chewed': 1, 'pick': 2, 'mix': 1, 'mistaken': 1, 'haven': 4, 'strawberry': 1, 'lace': 1, 'offered': 1, 'attention': 1, 'gobstopper': 1, 'pastimes': 1, 'consisted': 1, 'strange': 3, 'twisted': 1, 'deranged': 1, 'game': 2, 'crying': 1, 'lightning': 1, 'aggravate': 1, 'ice': 1, 'cream': 1, 'man': 2, 'afternoons': 2, 'next': 2, 'caught': 1, 'reflection': 1, 'meet': 2, 'postpone': 1, 'looked': 2, 'yourself': 2, 'profile': 1, 'fact': 2, 'approaching': 1, 'throne': 1, 'bench': 1, 'toothache': 1, 'stood': 3, 'puffed': 1, 'chest': 2, 'war': 3, 'though': 7, 'suffer': 1, 'indignity': 1, 'reaction': 1, 'grasp': 1, 'gaps': 1, 'claw': 1, 'hate': 2, 'icky': 1, 'uninviting': 1, 'impossible': 2, 'everyone': 2, 'assumes': 1, 'instrumental': 8, 'sank': 1, 'calculations': 1, 'snorted': 1, 'stench': 1, 'arithmetic': 1, 'hanging': 2, 'low': 2, 'trophies': 1, 'ideas': 1, 'follow': 1, 'pretend': 1, 'scowl': 1, 'pocket': 2, 'smile': 2, 'face': 5, 'followed': 3, 'obedience': 1, 'nettles': 1, 'afterwards': 1, 'spiky': 1, 'whispers': 1, 'brought': 1, 'rope': 1, 'skipped': 1, 'bits': 2, 'loathed': 1, 'didn’t': 2, 'scramble': 1, 'dock': 1, 'leaf': 1, 'capture': 1, 'our': 5, 'advice': 1, 'closed': 1, 'foot': 1, 'holes': 2, 'toothpick': 1, 'garlic': 1, 'cinder': 2, 'upon': 2, 'path': 1, 'failed': 1, 'blunt': 2, 'hinder': 1, 'slow': 2, 'collapse': 1, 'clinging': 1, 'frame': 2, 'trapped': 1, 'reminder': 1, 'flee': 1, 'sat': 4, 'content': 1, 'lights': 5, 'drawn': 1, 'you’re': 1, 'kissin': 1, 'cut': 2, 'through': 10, 'gloom': 2, 'cough': 1, 'drop': 2, 'coloured': 1, 'tongue': 4, 'coats': 1, 'piled': 1, 'high': 3, 'small': 1, 'world': 2, 'exceptionally': 1, 'tuesday': 1, 'zeros': 1, 'line': 3, '4': 3, 'hour': 2, 'clock': 2, 'who’s': 1, 'callin': 1, 'number': 2, 'blocked': 1, 'walked': 1, 'wearin': 1, 'blue': 3, 'lacoste': 1, 'knee': 1, 'socks': 2, 'cured': 1, 'january': 1, 'blues': 1, 'feelin': 1, 'lit': 1, 'fuse': 2, 'tryin': 1, 'stranger': 2, 'phonebook': 1, 'actin': 1, '‘cause': 1, 'nothin': 1, 'winter’s': 1, 'full': 3, 'swing': 1, 'dreams': 2, 'aren’t': 1, 'comin': 1, 'ain’t': 1, 'funny': 2, 'you’ll': 2, 'ghost': 1, 'room': 4, 'always': 3, 'approve': 1, 'knockin': 1, 'lettin': 1, 'sweet': 1, 'spot': 1, 'scruff': 1, 'team': 1, 'each': 2, 'king': 1, 'queen': 1, 'beginning': 1, 'streets': 3, 'interlude': 1, 'josh': 1, 'homme': 1, 'lined': 2, 'number’s': 1, 'you’ve': 1, 'undone': 2, 'old': 5, 'flat': 2, 'top': 2, 'groovin': 1, 'slowly': 2, 'ju': 1, 'eyeballs': 1, 'holy': 1, 'rollers': 1, 'knees': 1, 'joker': 1, 'wear': 2, 'shoeshine': 1, 'toe': 1, 'jam': 1, 'football': 1, 'monkey': 1, 'shoot': 2, 'coca': 1, 'cola': 1, 'together': 4, 'bag': 1, 'production': 1, 'walrus': 1, 'gumboot': 1, 'ono': 1, 'sideboard': 1, 'spinal': 1, 'feet': 3, 'below': 1, 'armchair': 1, 'disease': 1, 'owaaa': 1, 'yeahhhhh': 1, 'intro': 3, 'marrying': 1, 'matador': 1, 'clever': 1, 'amongst': 1, 'several': 1, 'terrible': 1, 'dilemma': 1, 'regret': 1, 'didn': 5, 'rescue': 1, 'bullring': 1, 'sulking': 1, 'son': 3, 'blood': 3, 'bitten': 1, 'smitten': 1, 'sitting': 2, 'gone': 4, 'patient': 1, 'doors': 2, 'rattle': 1, 'ear': 2, 'applause': 1, 'rapturous': 1, 'considered': 1, 'due': 1, 'nasty': 1, 'laughter': 3, 'desperate': 1, 'smirks': 1, 'tangled': 1, 'boredom': 2, 'brittle': 1, 'lurk': 1, 'shards': 1, 'past': 2, 'attraction': 1, 'lie': 1, 'visible': 1, 'shy': 1, 'weak': 1, 'worn': 1, 'whining': 1, 'emery': 1, 'paper': 1, 'use': 1, 'speak': 4, 'trap': 2, 'sandtrap': 1, 'climbing': 1, 'claws': 1, 'calenture': 1, 'sent': 2, 'towards': 2, 'farewell': 1, 'spoken': 1, 'special': 3, 'cool': 2, 'beautiful': 2, 'fake': 2, 'tan': 1, 'eating': 1, 'fancy': 2, 'tarted': 1, 'since': 1, 'surprisingly': 1, 'forgotten': 3, 'fibbing': 1, 'woah': 2, 'da': 2, 'passion': 1, 'topshop': 1, 'princess': 1, 'rockstar': 1, 'fad': 1, 'fashion': 1, 'having': 3, 'job': 1, 'put': 10, 'control': 1, 'including': 1, 'rolls': 2, 'riot': 1, 'van': 1, 'sparks': 1, 'boys': 2, 'policemen': 1, 'annoyed': 1, 'perhaps': 2, 'avoid': 2, 'chase': 2, 'men': 1, 'truncheons': 1, 'dressed': 1, 'hats': 1, 'ran': 1, 'silly': 1, 'sorry': 1, 'officer': 1, 'certain': 1, 'age': 1, 'supposed': 1, 'nobody': 3, 'lads': 1, 'wind': 2, 'coppers': 1, 'why': 4, 'proper': 1, 'crooks': 1, 'address': 1, 'names': 1, 'thrown': 1, 'kicked': 2, 'win': 2, 'ya': 5, 'whisper': 2, 'violently': 1, 'swung': 1, 'unfamiliar': 1, 'tradition': 1, 'grab': 1, 'wrist': 1, 'silently': 1, 'insist': 1, 'confines': 1, 'crawling': 1, 'walls': 2, 'ripples': 1, 'ceiling': 1, 'avenues': 1, 'unsugared': 1, 'taste': 1, 'evening': 2, 'hat': 1, 'shirtless': 1, 'confident': 1, 'listening': 1, 'tickling': 1, 'rules': 1, 'obsessions': 1, 'patterns': 1, 'stools': 1, 'attitudes': 1, 'anticipation': 1, 'has': 7, 'habit': 1, 'set': 2, 'disappointment': 1, 'entertainment': 1, 'ruckus': 1, 'regardless': 1, 'already': 3, 'lairy': 1, 'girls': 2, 'hung': 1, 'window': 1, 'limousine': 1, 'course': 3, 'dress': 1, 'quite': 5, 'bunny': 1, 'ears': 1, 'devil': 1, 'horns': 2, 'jackpot': 1, 'fruit': 1, 'understand': 2, 'beat': 3, 'bandit': 1, 'surprised': 1, 'shocked': 1, 'pressed': 1, 'after': 3, 'unlock': 1, 'chapter': 1, 'inbox': 1, 'says': 1, 'drank': 1, 'lot': 2, 'bear': 1, 'pour': 1, 'reasoning': 1, 'block': 1, 'owt': 1, 'nine': 2, 'o': 2, 'rawkus': 1, 'three': 5, 'writer': 1, 'swap': 3, 'anything': 2, 'return': 1, 'noises': 1, 'count': 1, 'twenty': 1, 'attend': 1, 'certainly': 1, 'wavin': 1, 'bye': 2, 'bus': 2, 'worried': 1, 'comfortable': 2, 'fat': 1, 'sam': 1, 'grand': 1, 'slam': 1, 'being': 2, 'someone': 2, 'memory': 1, 'collecting': 1, 'dole': 1, 'stuff': 1, 'pose': 1, 'depends': 2, 'fine': 2, 'able': 1, 'again': 5, 'couplet': 1, 'le': 1, 'reflet': 1, 'du': 1, 'miroir': 1, 'dit': 1, 'qu': 1, 'il': 1, 'est': 1, 'temps': 1, 'de': 2, 'rentrer': 1, 'mais': 1, 'j': 1, 'en': 1, 'ai': 2, 'pas': 1, 'fini': 1, 'parce': 1, 'que': 1, 'es': 1, 'près': 1, 'moi': 1, 'et': 1, 'arrivant': 1, 'cru': 1, 'te': 1, 'voir': 1, 'partir': 1, 'tes': 1, 'chaussures': 1, 'à': 1, 'la': 1, 'main': 1, 'décidé': 1, 'une': 1, 'fois': 1, 'encore': 1, 'je': 1, 'ne': 1, 'faisais': 1, 'rêver': 1, 'tomber': 1, 'sur': 1, 'toi': 1, 'maintenant': 1, 'trois': 1, 'heures': 1, 'matin': 1, 'essaie': 1, 'faire': 1, 'changer': 1, 'avis': 1, 'laissé': 1, 'plusieurs': 1, 'appels': 1, 'manqués': 1, 'mon': 1, 'tu': 1, 'réponds': 1, 'pourquoi': 1, 'appelles': 1, 'quand': 1, 'défoncé': 1, 'dans': 1, 'un': 2, 'endroit': 1, 'plus': 2, 'sombre': 1, 'dis': 1, 'les': 1, 'mêmes': 1, 'conneries': 1, 'besoin': 1, 'partenaire': 1, 'donc': 1, 'ce': 1, 'sors': 1, 'soir': 1, 'c': 1, 'dur': 1, 'tenir': 1, 'écouter': 1, 'prends': 1, 'choses': 1, 'incapable': 1, 'prendre': 1, 'des': 1, 'décisions': 1, 'correctes': 1, 'avoir': 1, 'mauvaises': 1, 'idées': 1, 'si': 1, 'vois': 1, 'ici': 1, 'demande': 1, 'où': 1, 'pourrais': 1, 'être': 1, 'peu': 1, 'l': 1, 'impression': 1, 'cours': 1, 'trouvé': 1, 'tout': 1, 'espérais': 1, 'trouver': 1, 'devais': 1, 'lever': 1, 'demain': 1, 'vas': 1, 'coucher': 1, 'tôt': 1, 'commences': 1, 'ennuyer': 1, 'bébé': 1, 'téléphones': 1, 'word': 1, 'dirty': 2, 'herbert': 1, 'seeking': 1, 'escape': 2, 'guarded': 1, 'guiltiness': 1, 'started': 2, 'part': 3, 'delightful': 1, 'keep': 6, 'trousers': 1, 'favourite': 1, 'nightmare': 1, 'desperately': 1, 'simulate': 1, 'quarters': 1, 'ago': 1, 'led': 1, 'position': 1, 'every': 2, 'compromission': 1, 'episode': 1, 'nearing': 1, 'brink': 2, 'thinks': 2, 'parallel': 1, 'uni': 1, 'perfect': 2, 'scene': 1, 'parallel—i': 1, 'yellow': 1, 'bricks': 1, 'risk': 1, 'escapologist': 1, 'miffed': 1, 'wished': 1, 'thousand': 2, 'places': 1, 'fugitive': 1, 'running': 2, 'houdini': 1, 'sleep': 2, 'city': 2, 'wakes': 1, 'blinded': 1, 'nostalgia': 1, 'enraged': 1, 'emperor': 1, 'traps': 1, 'cage': 1, 'deemed': 1, 'dull': 1, 'leading': 1, 'reading': 1, 'beer': 1, 'bottles': 2, 'loss': 1, 'wasn': 2, 'revel': 1, 'dorothy': 1, 'summon': 1, 'strength': 1, 'tow': 1, 'urgency': 1, 'descent': 1, 'oil': 1, 'keys': 1, 'coax': 1, 'spin': 1, 'propeller': 1, 'necessary': 1, 'evil': 1, 'emergency': 1, 'borrowed': 1, 'beak': 1, 'bald': 1, 'eagle': 1, 'momentary': 1, 'synergy': 1, 'sink': 2, 'tomorrow': 2, 'arriving': 1, 'thunderstorms': 1, 'lying': 1, 'against': 1, 'foolish': 1, 'substituted': 1, 'peace': 1, 'quiet': 1, 'acrobatic': 1, 'flow': 1, 'concertina': 1, 'cheating': 1, 'rapid': 1, 'fire': 3, 'host': 1, 'heat': 1, 'starts': 1, 'growing': 2, 'loop': 1, 'looping': 1, 'motorcycle': 1, 'unusual': 1, 'alex': 3, 'turner': 3, 'show': 3, 'bed': 1, 'roads': 1, 'cul': 1, 'sacs': 1, 'temptation': 1, 'naughty': 1, 'mate': 1, 'used': 2, 'bother': 1, 'bring': 1, 'spark': 1, 'helps': 1, 'sight': 1, 'friend': 3, 'ends': 1, 'dead': 1, 'steal': 1, 'adds': 1, 'intrigue': 1, 'cauldron': 1, 'exceeding': 1, 'held': 2, 'charm': 1, 'dizzee': 1, 'rascal': 1, 'yo': 1, 'rasc': 1, 'gettin': 1, 'dirtee': 1, 'stankin': 1, 'tight': 1, 'friends': 2, 'caused': 1, 'pure': 1, 'madness': 1, 'robbed': 1, 'stole': 2, 'loved': 1, 'fight': 2, 'smoking': 1, 'drag': 2, 'riding': 2, 'drugs': 1, 'thugs': 2, 'law': 2, 'abiding': 1, 'youngsters': 1, 'direction': 1, 'sign': 1, 'correction': 1, 'switched': 1, 'changed': 2, 'run': 5, 'area': 1, 'phased': 1, 'music': 1, 'pays': 1, 'panic': 1, 'fall': 3, 'bouncers': 1, 'em': 1, 'scary': 1, 'totalitarian': 1, 'breathing': 1, 'step': 1, 'queue': 2, 'examples': 1, 'nowt': 1, 'pay': 2, 'realise': 1, 'finally': 1, 'ten': 1, 'jumpers': 1, 'another': 2, 'move': 2, 'instilled': 1, 'brain': 1, 'prove': 1, 'smirking': 1, 'pleasant': 1, 'duff': 1, 'secretly': 1, 'kick': 2, 'flying': 1, 'everywhere': 1, 'story': 1, 'glad': 1, 'turned': 3, 'fate': 1, 'morning': 3, 'town': 1, 'today': 2, 'sunday': 1, 'kissed': 1, 'sense': 2, 'haze': 1, 'ascended': 1, 'anymore': 1, 'pastures': 1, 'sea': 2, 'discontent': 1, 'packs': 1, 'hungry': 1, 'hounds': 1, 'seekers': 1, 'enchantment': 1, 'boulevards': 1, 'bars': 1, 'pray': 1, 'wishing': 2, 'wells': 1, 'hurricane': 1, 'toward': 1, 'distance': 2, 'deceiving': 1, 'while': 3, 'believing': 1, 'lovers': 1, 'pair': 1, 'chosen': 1, 'few': 2, 'beds': 1, 'straw': 1, 'velvet': 1, 'ending': 2, 'pretending': 1, 'coz': 1, 'goodbye': 1, 'catches': 1, 'throats': 1, 'cotton': 1, 'rises': 1, 'hearts': 2, 'times': 1, 'hunt': 1, 'begins': 1, 'search': 2, 'subways': 1, 'tired': 1, 'bodies': 1, 'aching': 1, 'warm': 1, 'loneliness': 1, 'inside': 1, 'them': 5, 'comfort': 1, 'knowing': 2, 'comes': 2, 'hello': 2, 'strangers': 1, 'bringing': 1, 'life': 1, 'longer': 2, 'hiding': 2, 'unashamed': 1, 'unafraid': 1, 'others': 1, 'faults': 1, 'waltz': 2, 'harm': 1, 'thrive': 1, 'dancing': 2, 'laps': 1, 'familiar': 1, 'chaps': 1, 'curtain': 1, 'leads': 1, 'fever': 1, 'watched': 1, 'womaniser': 1, 'cry': 1, 'declared': 1, 'require': 2, 'breather': 1, 'truth': 2, 'truant': 1, 'feign': 1, 'fluently': 1, 'solid': 1, 'busk': 1, 'shock': 1, 'presented': 1, 'merriment': 1, 'shouldn': 1, 'lock': 1, 'tumble': 1, 'splits': 2, 'revealing': 1, 'silk': 1, 'fits': 1, 'fright': 1, 'dining': 1, 'throw': 1, 'feast': 1, 'heels': 1, 'crack': 2, 'whip': 1, 'weeks': 1, 'burst': 1, 'sachet': 1, 'brats': 1, 'pantomime': 1, 'villain': 1, 'follows': 1, 'hides': 1, 'hangs': 1, 'spies': 1, 'slats': 1, 'meanwhile': 1, 'desert': 1, 'costume': 1, 'shop': 1, 'cowls': 1, 'hang': 3, 'rot': 1, 'identities': 1, 'sugar': 1, 'rocketing': 1, 'shutter': 1, 'despite': 1, 'opening': 1, 'hours': 1, 'itch': 1, 'flap': 1, 'whistle': 1, 'tock': 1, 'scribbled': 1, 'drivel': 1, 'snoring': 1, 'showing': 2, 'ladies': 1, 'damn': 1, 'living': 1, 'tribes': 1, 'heading': 1, 'gotta': 1, 'work': 1, 'fellas': 1, 'worth': 1, 'limbo': 1, 'gift': 1, 'wrapped': 1, 'kitty': 1, 'cats': 1, 'turning': 1, 'tigers': 1, 'eskimo': 1, 'honey': 2, 'loving': 1, 'pie': 1, 'feeding': 1, 'fantasy': 1, 'squeeze': 1, 'stead': 1, 'negligee': 1, 'neighbors': 1, 'crazy': 1, 'language': 1, 'mr': 1, 'prehistoric': 1, 'wheel': 1, 'breathe': 1, 'underwater': 1, 'education': 1, 'motivation': 1, 'situation': 1, 'making': 1, 'arrange': 1, 'beware': 1, 'serpent': 1, 'pinchers': 1, 'hundred': 1, 'fifty': 1, 'thank': 1, 'flinches': 1, 'gruesome': 1, 'grief': 1, 'thieves': 1, 'rob': 1, 'words': 3, 'gob': 1, 'source': 1, 'innocence': 1, 'fill': 1, 'column': 1, 'inches': 1, 'dig': 1, 'dug': 1, 'sweetheart': 1, 'comply': 1, 'known': 1, 'predicted': 1, 'tears': 1, 'circle': 1, 'witches': 1, 'ambitiously': 1, 'vicious': 1, 'attempts': 1, 'remind': 1, 'hasn': 1, 'sides': 1, 'softly': 1, 'growl': 1, 'mist': 1, 'capable': 1, 'cannot': 1, 'legs': 1, 'building': 1, 'blocks': 1, 'index': 1, 'flicks': 1, 'pitched': 1, 'dread': 1, 'whispered': 1, 'baritone': 1, 'stone': 1, 'carve': 1, 'jaw': 1, 'inferior': 1, 'catapult': 1, 'daddy': 1, 'hissing': 1, 'misery': 1, 'triumph': 1, 'hollow': 1, 'extinguish': 1, 'chance': 1, 'slaps': 1, 'arse': 1, 'nape': 1, 'leaving': 2, 'pissing': 1, 'poor': 1, 'blub': 1, 'avenue': 1, 'incessantly': 1, 'pestering': 1, 'join': 1, 'club': 1, 'cork': 1, 'fuss': 1, 'shut': 1, 'charming': 1, 'dust': 2, 'track': 1, 'betrayal': 1, 'teach': 1, 'missed': 1, 'sends': 1, 'coursing': 1, 'veins': 1, 'races': 1, 'brains': 1, 'expressions': 1, 'stupid': 1, 'heartbeat': 1, 'peak': 1, 'tense': 1, 'tenser': 1, 'frank': 1, 'spencer': 1, 'gibberish': 1, 'tip': 1, 'deliver': 1, 'properly': 1, 'weren': 2, 'jokes': 2, 'claim': 1, 'drowning': 1, 'denial': 1, 'agree': 1, 'acting': 1, 'write': 1, 'book': 2, 'slightly': 2, 'standing': 1, 'heads': 1, 'tricks': 1, 'desirable': 1, 'tales': 1, 'san': 1, 'francisco': 1, 'echo': 1, 'disco': 1, 'bride': 1, 'groom': 1, 'super': 1, 'band': 1, 'trilbies': 1, 'glasses': 1, 'white': 2, 'weekend': 1, 'rockstars': 1, 'toilets': 1, 'lines': 1, 'hear': 4, 'air': 1, 'bored': 1, 'microphone': 1, 'squeaks': 1, 'young': 1, 'telephone': 1, 'beeps': 1, 'dashing': 1, 'exit': 1, 'saved': 1, 'screams': 1, 'fucking': 1, 'wank': 1, 'bird': 1, 'amazing': 1, 'proof': 1, 'blind': 1, 'deaf': 1, 'talks': 1, 'hunter': 1, 'bar': 1, 'problem': 1, 'york': 1, 'rotherham': 1, 'bandwagon': 1, 'handbook': 1, 'spoke': 1, 'script': 1, 'dipped': 1, 'sort': 2, 'slicked': 1, 'slimy': 1, 'wage': 1, 'crackling': 1, 'wire': 1, 'bite': 1, 'marks': 1, 'twists': 1, 'guts': 1, 'repelling': 1, 'invitations': 1, 'conductor': 1, 'terror': 1, 'stint': 1, 'master': 1, 'craft': 1, 'spectacle': 1, 'hint': 1, 'unacceptable': 1, 'pages': 1, 'fingers': 1, 'covered': 1, 'goo': 1, 'hurts': 1, 'adoration': 1, 'lawn': 1, 'spilled': 1, 'sounding': 1, 'alarm': 1, 'frightened': 1, 'pussyfooting': 1, 'setting': 2, 'sun': 2, 'weighs': 1, 'tonne': 1, 'handles': 1, 'understanding': 1, 'jealousy': 1, 'technicolor': 1, 'fear': 1, 'numbers': 1, 'street': 1, 'lamp': 1, 'amber': 2, 'wanderlust': 1, 'powder': 1, 'blunderbuss': 1, 'blowing': 1, 'scissor': 1, 'floor': 2, 'tambourine': 1, 'crushing': 1, 'bundle': 1, 'personally': 1, 'flames': 1, 'fastened': 1, 'beacon': 1, 'river': 1, 'shimmering': 1, 'fog': 1, 'yes': 1, 'heatseeking': 1, 'snapped': 1, 'wing': 1, 'mirrors': 1, 'cadillacs': 1, 'particular': 1, 'strain': 1, 'putting': 1, 'lippy': 1, 'tastes': 1, 'bland': 1, 'sit': 1, 'approach': 2, 'showed': 2, 'shake': 1, 'steady': 1, 'floats': 1, 'niccy': 1, 'rush': 2, 'stings': 1, 'b': 1, 'blond': 1, 'sonic': 1, 'etched': 1, 'stopwatch': 1, 'raindrop': 1, 'sand': 1, 'hourglass': 1, 'heard': 1, 'unhappy': 1, 'piledriver': 1, 'woke': 2, 'breakfast': 1, 'heartbreak': 1, 'booth': 2, 'pamphlets': 1, 'literature': 1, 'waitress': 1, 'food': 1, 'water': 1, 'shoes': 2, 'mysteries': 1, 'green': 2, 'answer': 1, 'rest': 1, 'questionnaire': 1, 'changes': 1, 'news': 1, 'cannon': 1, 'idea': 1, 'fancies': 1, 'begin': 1, 'exciting': 1, 'realising': 1, 'awkwardly': 1, 'stretching': 1, 'yawning': 1, 'suppose': 1, 'price': 1, 'guess': 1, 'ruin': 1, 'brewing': 1, 'wake': 1, 'fazed': 1, 'struggle': 1, 'quick': 1, 'yours': 2, 'until': 1, 'rivers': 1, 'dry': 1, 'die': 1, 'oisin': 1, 'leech': 1, 'shines': 1, 'poets': 1, 'rhyme': 1, 'satisfied': 1, 'mountains': 1, 'crumble': 1, 'eternity': 1, '&': 3, 'til': 1, 'box': 1, 'matches': 1, 'welcome': 1, 'threatening': 1, 'stir': 1, 'hopes': 1, 'stolen': 1, 'prefer': 1, 'snapping': 1, 'burden': 1, 'feature': 1, 'dream': 1, 'reel': 1, 'touched': 1, 'shared': 1, 'soup': 1, 'reveals': 1, 'splashing': 1, 'eyelids': 1, 'concentration': 1, 'continually': 1, 'breaks': 1, 'request': 1, 'cast': 1, 'heal': 1, 'fast': 1, 'silences': 1, 'teasing': 1, 'thud': 1, 'jostling': 1, 'crowd': 1, 'allowed': 1, 'photo': 1, 'liar': 1, 'sharpened': 1, 'explanation': 1, 'screaming': 1, 'inquire': 1, 'poke': 1, 'prying': 1, 'smacks': 1, 'temples': 1, 'kane': 1, 'swinging': 1, 'planting': 1, 'ridden': 1, 'riddle': 1, 'wirral': 1, 'began': 1, 'riddler': 1, 'letter': 1, 'illusion': 1, 'liked': 1, 'hoping': 1, 'wow': 1, 'vacuum': 1, 'cleaner': 1, 'breathin': 1, 'ford': 1, 'cortina': 1, 'rust': 1, 'coffee': 1, 'pot': 1, 'shots': 1, 'secrets': 1, 'harder': 1, 'leccy': 1, 'meter': 1, 'portable': 1, 'heater': 1, 'lotion': 1, 'devotion': 1, 'pacific': 1, 'ocean': 1, 'laughing': 2, 'background': 1, 'stick': 1, 'sick': 1, 'lookin': 1, 'stickin': 1, 'ounce': 1, 'style': 1, 'nose': 1, 'pushin': 1, 'steppin': 1, 'toes': 1, 'caricatures': 1, 'wrecking': 1, 'ball': 2, 'gown': 1, 'damsel': 1, 'patterned': 1, 'alley': 1, 'sorrow': 1, 'dances': 1, 'phones': 1, 'lighting': 1, 'taking': 1, 'chances': 1, 'cowboy': 1, 'films': 1, 'gloomy': 1, 'tinting': 1, 'solitude': 1, 'moves': 1, 'stunts': 1, 'noon': 1, 'linking': 1, 'sinking': 1, 'edges': 1, 'prize': 1, 'snippet': 1, 'prowl': 1, 'whether': 1, 'jacket': 1, 'collar': 1, 'popped': 1, 'antenna': 1, 'sunglasses': 1, 'indoors': 1, 'par': 1, 'floors': 1, 'sweat': 1, 'cages': 1, 'poles': 1, 'sly': 1, 'indoor': 1, 'calls': 1, 'folks': 1, 'oldest': 1, 'sipping': 1, 'drink': 1, 'signals': 1, 'invite': 1, 'lumps': 1, 'throat': 1, 'swallowed': 1, 'party': 1, 'anthem': 1, 'certified': 1, 'blower': 1, 'suggest': 1, 'somewhere': 1, 'which': 1, 'drunken': 1, 'monologues': 1, 'confused': 1, 'falling': 1, 'moment': 1, 'gallic': 1, 'shrug': 1, 'shutterbugs': 1, 'camera': 1, 'color': 1, 'dodge': 1, 'cubicles': 1}\n"
     ]
    }
   ],
   "source": [
    "\n",
    "palavras_inuteis = ['a','b','c','d','e','f','g','h','i','j','k','l','m','n','o', 'and', 'i', 'or', 'and','me','he','him','himself','she','her','herself','we','our','ourself', 'the','they','them','themselves','to', 'you','your','yours','yourself','yourselves','it',\n",
    "'its','itself','what','which','who','whom','this','that','these','those','am','is','are','was','were','be','been','being','have','has','had','having','do','does','did','doing','will','would','should','can','could','ought','im','youre','hes','shes','its','were','theyre','ive','youve','weve','theyve','id','youd','hed','shed','wed','theyd','ill','youll','hell','shell','well','theyll','isnt','arent','wasnt','werent','hasnt','havent','hadnt','doesnt','dont','didnt','wont','wouldnt','shant','shouldnt','cant','cannot','couldnt','mustnt','lets','thats','whos','whats','heres','theres','whens','wheres','whys','hows','a','an','the','and','but','if','or','because','as','until','while','of','at','by','for','with','about','against','between','into','through','during','before','after','above','below','to','from','up','upon','down','in','out','on','off','over','under','again','further','then','once','here','there','when','where','why','how','all','any','both',\n",
    "'each','few','more','most','other','some','such','no','nor','not','only','own','same','so','than','too','very','can','will','just','don','should','now','1','2','3','4','5','6','7','8','9','0']\n",
    "\n",
    "def separador_palavra(text):\n",
    "    return text.split() # Separa o texto em palavras a partir dos espaços\n",
    "\n",
    "def limpar_musica(musica_am):\n",
    "    musica_am = musica_am.lower()\n",
    "    caracteres_a_remover = [',', '.', '?', '!', '(', ')', ';', ':', '\"', \"'\", '-', '[', ']', '\\r\\n', 'verse', 'chorus', '1', '2']\n",
    "\n",
    "    for caractere in caracteres_a_remover:\n",
    "        musica_am = musica_am.replace(caractere, ' ')\n",
    "\n",
    "    return musica_am\n",
    "\n",
    "# def apagar_palavras_inuteis(palavras_inuteis, palavras):\n",
    "\n",
    "# for palavra in palavras_inuteis:\n",
    "#     if palavra in palavras:\n",
    "#         palavras.remove(palavra)\n",
    "\n",
    "# Probabilidade de cada palavra aparecer em Arctic Monkeys\n",
    "dict_am = {}\n",
    "dict_palavras_am = {}\n",
    "\n",
    "for musica_am in df_am_treino['lyrics']:\n",
    "    musica_am = limpar_musica(musica_am) # Aplica a função limpar_musica a cada linha da coluna lyrics\n",
    "    dict_am['palavras'] = separador_palavra(musica_am) # Aplica a função separador_palavra a cada linha da coluna lyrics\n",
    "    df_am_novo = pd.DataFrame(dict_am)\n",
    "    palavras_am = df_am_novo['palavras'].explode() # Transforma a coluna palavras em um novo df para calcular a frequência de cada palavra corretamente\n",
    "\n",
    "    palavras_unicas_am = palavras_am.unique() # Remove palavras repetidas\n",
    "\n",
    "    for palavra_am in palavras_unicas_am:\n",
    "        if palavra_am not in dict_palavras_am:\n",
    "            dict_palavras_am[palavra_am] = 1\n",
    "        else:\n",
    "            dict_palavras_am[palavra_am] += 1\n",
    "\n",
    "dict_prob_am = {}\n",
    "\n",
    "for palavra_am in dict_palavras_am:\n",
    "    dict_prob_am[palavra_am] = dict_palavras_am[palavra_am] / len(df_am_treino)\n",
    "\n",
    "print(dict_palavras_am)"
   ]
  },
  {
   "cell_type": "code",
   "execution_count": null,
   "metadata": {},
   "outputs": [],
   "source": [
    "# Probabilidade de cada palavra aparecer em Backstreets Boys\n",
    "dict_bb = {}\n",
    "dict_palavras_bb = {}\n",
    "\n",
    "for musica_bb in df_bb_treino['Lyrics']:\n",
    "    musica_bb = limpar_musica(musica_bb)\n",
    "    dict_bb['palavras'] = separador_palavra(musica_bb) # Aplica a função separador_palavra a cada linha da coluna lyrics\n",
    "    df_bb_novo = pd.DataFrame(dict_bb)\n",
    "    palavras_bb = df_bb_novo['palavras'].explode() # Transforma a coluna palavras em um novo df para calcular a frequência de cada palavra corretamente\n",
    "\n",
    "    palavras_unicas_bb = palavras_bb.unique() # Remove palavras repetidas\n",
    "\n",
    "    for palavra_bb in palavras_unicas_bb:\n",
    "        if palavra_bb not in dict_palavras_bb:\n",
    "            dict_palavras_bb[palavra_bb] = 1\n",
    "        else:\n",
    "            dict_palavras_bb[palavra_bb] += 1\n",
    "\n",
    "dict_prob_bb = {}\n",
    "\n",
    "for palavra_bb in dict_palavras_bb:\n",
    "    dict_prob_bb[palavra_bb] = dict_palavras_bb[palavra_bb] / len(df_bb_treino)"
   ]
  },
  {
   "cell_type": "code",
   "execution_count": null,
   "metadata": {},
   "outputs": [],
   "source": [
    "# Probabilidade de cada palavra aparecer em ambas as bandas\n",
    "dict_palavras_both = {}\n",
    "\n",
    "for palavra_am_new in dict_palavras_am:\n",
    "    dict_palavras_both[palavra_am_new] = dict_palavras_am[palavra_am_new]\n",
    "\n",
    "for palavra_bb_new in dict_palavras_bb:\n",
    "    if palavra_bb_new not in dict_palavras_both:\n",
    "        dict_palavras_both[palavra_bb_new] = dict_palavras_bb[palavra_bb_new]\n",
    "    else:\n",
    "        dict_palavras_both[palavra_bb_new] += dict_palavras_bb[palavra_bb_new]\n",
    "\n",
    "dict_prob_both = {}\n",
    "\n",
    "for palavra_both in dict_palavras_both:\n",
    "    dict_prob_both[palavra_both] = dict_palavras_both[palavra_both] / (len(df_am_treino) + len(df_bb_treino))"
   ]
  },
  {
   "cell_type": "code",
   "execution_count": null,
   "metadata": {},
   "outputs": [],
   "source": [
    "# Probabilidade de ser do Arctic Monkeys dado que a palavra aparece\n",
    "# Teorema de Bayes \n",
    "# P(A|B) = P(B|A) * P(A) / P(B)\n",
    "dict_prob_am_dado_palavra = {}\n",
    "\n",
    "for palavra in dict_prob_am:\n",
    "    dict_prob_am_dado_palavra[palavra] = (dict_prob_am[palavra] * p_am) / dict_prob_both[palavra]"
   ]
  },
  {
   "cell_type": "code",
   "execution_count": null,
   "metadata": {},
   "outputs": [
    {
     "data": {
      "text/plain": [
       "(171, 444, 127)"
      ]
     },
     "execution_count": 9,
     "metadata": {},
     "output_type": "execute_result"
    }
   ],
   "source": [
    "# def classificador(dict_am, dict_bb, dict_both):\n",
    "#     certo = 0\n",
    "#     errado = 0\n",
    "\n",
    "#     for palavra in dict_both:\n",
    "#         if palavra not in dict_am or palavra not in dict_bb:\n",
    "#             continue\n",
    "#         if dict_am[palavra] > dict_bb[palavra]:\n",
    "#             if dict_prob_am_dado_palavra[palavra] > 0.5:\n",
    "#                 certo += 1\n",
    "#             else:\n",
    "#                 errado += 1\n",
    "#         else:\n",
    "#             if dict_prob_am_dado_palavra[palavra] < 0.5:\n",
    "#                 certo += 1\n",
    "#             else:\n",
    "#                 errado += 1\n",
    "    \n",
    "#     return certo, errado\n",
    "\n",
    "# certo, errado = classificador(dict_prob_am, dict_prob_bb, dict_prob_both)\n",
    "\n",
    "# prob_certo = certo / (certo + errado)\n",
    "\n",
    "# prob_certo\n",
    "\n",
    "def classficador(dict_am, dict_bb, dict_both):\n",
    "    contador_am = 0\n",
    "    contador_bb = 0\n",
    "    contador_both = 0\n",
    "\n",
    "    for palavra in dict_both:\n",
    "        if palavra not in dict_am or palavra not in dict_bb:\n",
    "            continue\n",
    "        if dict_am[palavra] > dict_bb[palavra]:\n",
    "            contador_am += 1\n",
    "        if dict_am[palavra] == dict_bb[palavra]:\n",
    "            contador_both += 1\n",
    "        else:\n",
    "            contador_bb += 1\n",
    "\n",
    "    return contador_am, contador_bb, contador_both\n",
    "\n",
    "contador_am, contador_bb, contador_both = classficador(dict_prob_am, dict_prob_bb, dict_prob_both)\n",
    "\n",
    "contador_am, contador_bb, contador_both"
   ]
  }
 ],
 "metadata": {
  "kernelspec": {
   "display_name": ".venv",
   "language": "python",
   "name": "python3"
  },
  "language_info": {
   "codemirror_mode": {
    "name": "ipython",
    "version": 3
   },
   "file_extension": ".py",
   "mimetype": "text/x-python",
   "name": "python",
   "nbconvert_exporter": "python",
   "pygments_lexer": "ipython3",
   "version": "3.11.4"
  },
  "orig_nbformat": 4
 },
 "nbformat": 4,
 "nbformat_minor": 2
}
