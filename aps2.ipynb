{
 "cells": [
  {
   "cell_type": "code",
   "execution_count": 8,
   "metadata": {},
   "outputs": [],
   "source": [
    "import pandas as pd\n",
    "import matplotlib as plt\n",
    "\n",
    "df_backstreetboys = pd.read_csv('Dados\\Backstreet_Boys_Lyrics_score.csv') \n",
    "df_backstreetboys = df_backstreetboys.drop(columns=[\"Unnamed: 0\", \"Unnamed: 0.1\"]) # Remove colunas desnecessárias\n",
    "\n",
    "df_arcticmonkeys = pd.read_csv('Dados\\lyrics.csv')"
   ]
  }
 ],
 "metadata": {
  "kernelspec": {
   "display_name": ".venv",
   "language": "python",
   "name": "python3"
  },
  "language_info": {
   "codemirror_mode": {
    "name": "ipython",
    "version": 3
   },
   "file_extension": ".py",
   "mimetype": "text/x-python",
   "name": "python",
   "nbconvert_exporter": "python",
   "pygments_lexer": "ipython3",
   "version": "3.11.4"
  },
  "orig_nbformat": 4
 },
 "nbformat": 4,
 "nbformat_minor": 2
}
