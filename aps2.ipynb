{
 "cells": [
  {
   "cell_type": "code",
   "execution_count": 135,
   "metadata": {},
   "outputs": [],
   "source": [
    "import pandas as pd\n",
    "\n",
    "df_backstreetboys = pd.read_csv('Dados\\Backstreet_Boys_Lyrics_score.csv') \n",
    "df_backstreetboys = df_backstreetboys.drop(columns=[\"Unnamed: 0\", \"Unnamed: 0.1\"]) # Remove colunas desnecessárias\n",
    "\n",
    "df_arcticmonkeys = pd.read_csv('Dados\\lyrics.csv')"
   ]
  },
  {
   "cell_type": "code",
   "execution_count": 169,
   "metadata": {},
   "outputs": [],
   "source": [
    "# Divide o dataset em 2, um para cada banda\n",
    "df_bb_treino = df_backstreetboys.iloc[:50] # Seleciona as primeiras linhas do dataset\n",
    "df_bb_teste = df_backstreetboys.iloc[50:100] # Seleciona as últimas linhas do dataset\n",
    "\n",
    "df_am_treino = df_arcticmonkeys.iloc[:50] # Seleciona as primeiras linhas do dataset\n",
    "df_am_teste = df_arcticmonkeys.iloc[50:100] # Seleciona as últimas linhas do dataset\n"
   ]
  },
  {
   "cell_type": "code",
   "execution_count": 161,
   "metadata": {},
   "outputs": [
    {
     "name": "stdout",
     "output_type": "stream",
     "text": [
      "0.5\n"
     ]
    }
   ],
   "source": [
    "# Probabilidade de ser de cada banda\n",
    "\n",
    "p_am = len(df_am_treino) / (len(df_am_treino) + len(df_bb_treino))\n",
    "p_bb = len(df_bb_treino) / (len(df_am_treino) + len(df_bb_treino))"
   ]
  },
  {
   "cell_type": "code",
   "execution_count": 174,
   "metadata": {},
   "outputs": [
    {
     "name": "stdout",
     "output_type": "stream",
     "text": [
      "{'palavras': ['1', 'so', 'you', 're', 'on', 'the', 'prowl', 'wondering', 'whether', 'she', 'left', 'already', 'or', 'not', 'leather', 'jacket', 'collar', 'popped', 'like', 'antenna', 'never', 'knowing', 'when', 'to', 'stop', 'sunglasses', 'indoors', 'par', 'for', 'the', 'course', 'lights', 'in', 'the', 'floors', 'and', 'sweat', 'on', 'the', 'walls', 'cages', 'and', 'poles', 'call', 'off', 'the', 'search', 'for', 'your', 'soul', 'or', 'put', 'it', 'on', 'hold', 'again', 'she', 's', 'having', 'a', 'sly', 'indoor', 'smoke', 'and', 'she', 'calls', 'the', 'folks', 'who', 'run', 'this', 'her', 'oldest', 'friends', 'sipping', 'a', 'drink', 'and', 'laughing', 'at', 'imaginary', 'jokes', 'as', 'all', 'the', 'signals', 'are', 'sent', 'her', 'eyes', 'invite', 'you', 'to', 'approach', 'and', 'it', 'seems', 'as', 'though', 'those', 'lumps', 'in', 'your', 'throat', 'that', 'you', 'just', 'swallowed', 'have', 'got', 'you', 'going', 'come', 'on', 'come', 'on', 'come', 'on', 'come', 'on', 'come', 'on', 'come', 'on', 'number', 'one', 'party', 'anthem', '2', 'she', 's', 'a', 'certified', 'mind', 'blower', 'knowing', 'full', 'well', 'that', 'i', 'don', 't', 'may', 'suggest', 'there', 's', 'somewhere', 'from', 'which', 'i', 'might', 'know', 'her', 'just', 'to', 'get', 'the', 'ball', 'to', 'roll', 'drunken', 'monologues', 'confused', 'because', 'it', 's', 'not', 'like', 'i', 'm', 'falling', 'in', 'love', 'i', 'just', 'want', 'ya', 'to', 'do', 'me', 'no', 'good', 'and', 'you', 'look', 'like', 'you', 'could', 'come', 'on', 'come', 'on', 'come', 'on', 'come', 'on', 'come', 'on', 'come', 'on', 'number', 'one', 'party', 'anthem', 'come', 'on', 'come', 'on', 'come', 'on', 'before', 'the', 'moment', 's', 'gone', 'number', 'one', 'party', 'anthem', 'yeah', 'yeah', 'bridge', 'the', 'look', 'of', 'love', 'the', 'rush', 'of', 'blood', 'the', 'she', 's', 'with', 'me', 's', 'the', 'gallic', 'shrug', 'the', 'shutterbugs', 'the', 'camera', 'plus', 'the', 'black', '&', 'white', 'and', 'the', 'color', 'dodge', 'the', 'good', 'time', 'girls', 'the', 'cubicles', 'the', 'house', 'of', 'fun', 'the', 'number', 'one', 'party', 'anthem', 'oh', 'come', 'on', 'come', 'on', 'come', 'on', 'come', 'on', 'come', 'on', 'come', 'on', 'come', 'on', 'come', 'on', 'come', 'on', 'come', 'on', 'come', 'on', 'come', 'on', 'before', 'the', 'moment', 's', 'gone', 'number', 'one', 'party', 'anthem', 'number', 'one', 'party', 'anthem', 'number', 'one', 'party', 'anthem', 'yeah', 'yeah']}\n"
     ]
    }
   ],
   "source": [
    "\n",
    "palavras_inuteis = ['a','b','c','d','e','f','g','h','i','j','k','l','m','n','o', 'and', 'i', 'or', 'and','me','he','him','himself','she','her','herself','we','our','ourself', 'the','they','them','themselves','to', 'you','your','yours','yourself','yourselves','it',\n",
    "'its','itself','what','which','who','whom','this','that','these','those','am','is','are','was','were','be','been','being','have','has','had','having','do','does','did','doing','will','would','should','can','could','ought','im','youre','hes','shes','its','were','theyre','ive','youve','weve','theyve','id','youd','hed','shed','wed','theyd','ill','youll','hell','shell','well','theyll','isnt','arent','wasnt','werent','hasnt','havent','hadnt','doesnt','dont','didnt','wont','wouldnt','shant','shouldnt','cant','cannot','couldnt','mustnt','lets','thats','whos','whats','heres','theres','whens','wheres','whys','hows','a','an','the','and','but','if','or','because','as','until','while','of','at','by','for','with','about','against','between','into','through','during','before','after','above','below','to','from','up','upon','down','in','out','on','off','over','under','again','further','then','once','here','there','when','where','why','how','all','any','both',\n",
    "'each','few','more','most','other','some','such','no','nor','not','only','own','same','so','than','too','very','can','will','just','don','should','now','1','2','3','4','5','6','7','8','9','0']\n",
    "\n",
    "def separador_palavra(text):\n",
    "    return text.split() # Separa o texto em palavras a partir dos espaços\n",
    "\n",
    "def limpar_musica(musica_am):\n",
    "    musica_am = musica_am.lower()\n",
    "    caracteres_a_remover = [',', '.', '?', '!', '(', ')', ';', ':', '\"', \"'\", '-', '[', ']', '\\r\\n', 'verse', 'chorus']\n",
    "\n",
    "    for caractere in caracteres_a_remover:\n",
    "        musica_am = musica_am.replace(caractere, ' ')\n",
    "\n",
    "    return musica_am\n",
    "\n",
    "# def apagar_palavras_inuteis(palavras_inuteis, palavras):\n",
    "\n",
    "# for palavra in palavras_inuteis:\n",
    "#     if palavra in palavras:\n",
    "#         palavras.remove(palavra)\n",
    "\n",
    "        \n",
    "# Probabilidade de cada palavra aparecer em Arctic Monkeys\n",
    "dict_am = {}\n",
    "dict_palavras_am = {}\n",
    "\n",
    "for musica_am in df_am_treino['lyrics']:\n",
    "    musica_am = limpar_musica(musica_am) # Aplica a função limpar_musica a cada linha da coluna lyrics\n",
    "    dict_am['palavras'] = separador_palavra(musica_am) # Aplica a função separador_palavra a cada linha da coluna lyrics\n",
    "    df_am_novo = pd.DataFrame(dict_am)\n",
    "    palavras_am = df_am_novo['palavras'].explode() # Transforma a coluna palavras em um novo df para calcular a frequência de cada palavra corretamente\n",
    "\n",
    "    palavras_unicas_am = palavras_am.unique() # Remove palavras repetidas\n",
    "\n",
    "    for palavra_am in palavras_unicas_am:\n",
    "        if palavra_am not in dict_palavras_am:\n",
    "            dict_palavras_am[palavra_am] = 1\n",
    "        else:\n",
    "            dict_palavras_am[palavra_am] += 1\n",
    "\n",
    "dict_prob_am = {}\n",
    "\n",
    "for palavra_am in dict_palavras_am:\n",
    "    dict_prob_am[palavra_am] = dict_palavras_am[palavra_am] / len(df_am_treino)\n",
    "\n",
    "print(dict_am)"
   ]
  },
  {
   "cell_type": "code",
   "execution_count": 139,
   "metadata": {},
   "outputs": [],
   "source": [
    "# Probabilidade de cada palavra aparecer em Backstreets Boys\n",
    "dict_bb = {}\n",
    "dict_palavras_bb = {}\n",
    "\n",
    "for musica_bb in df_bb_treino['Lyrics']:\n",
    "    musica_bb = musica_bb.lower().replace(',', '').replace('.', '').replace('?', '').replace('!', '').replace('(', '').replace(')', '').replace(';', '').replace(':', '').replace('\"', '').replace(\"'\", '').replace('-', '').replace('[', '').replace(']', '').replace('\\r\\n', ' ')\n",
    "    dict_bb['palavras'] = separador_palavra(musica_bb) # Aplica a função separador_palavra a cada linha da coluna lyrics\n",
    "    df_bb_novo = pd.DataFrame(dict_bb)\n",
    "    palavras_bb = df_bb_novo['palavras'].explode() # Transforma a coluna palavras em um novo df para calcular a frequência de cada palavra corretamente\n",
    "\n",
    "    palavras_unicas_bb = palavras_bb.unique() # Remove palavras repetidas\n",
    "\n",
    "    for palavra_bb in palavras_unicas_bb:\n",
    "        if palavra_bb not in dict_palavras_bb:\n",
    "            dict_palavras_bb[palavra_bb] = 1\n",
    "        else:\n",
    "            dict_palavras_bb[palavra_bb] += 1\n",
    "\n",
    "dict_prob_bb = {}\n",
    "\n",
    "for palavra_bb in dict_palavras_bb:\n",
    "    dict_prob_bb[palavra_bb] = dict_palavras_bb[palavra_bb] / len(df_bb_treino)"
   ]
  },
  {
   "cell_type": "code",
   "execution_count": 140,
   "metadata": {},
   "outputs": [],
   "source": [
    "# Probabilidade de cada palavra aparecer em ambas as bandas\n",
    "dict_palavras_both = {}\n",
    "\n",
    "for palavra_am_new in dict_palavras_am:\n",
    "    dict_palavras_both[palavra_am_new] = dict_palavras_am[palavra_am_new]\n",
    "\n",
    "for palavra_bb_new in dict_palavras_bb:\n",
    "    if palavra_bb_new not in dict_palavras_both:\n",
    "        dict_palavras_both[palavra_bb_new] = dict_palavras_bb[palavra_bb_new]\n",
    "    else:\n",
    "        dict_palavras_both[palavra_bb_new] += dict_palavras_bb[palavra_bb_new]\n",
    "\n",
    "dict_prob_both = {}\n",
    "\n",
    "for palavra_both in dict_palavras_both:\n",
    "    dict_prob_both[palavra_both] = dict_palavras_both[palavra_both] / (len(df_am_treino) + len(df_bb_treino))"
   ]
  },
  {
   "cell_type": "code",
   "execution_count": 141,
   "metadata": {},
   "outputs": [],
   "source": [
    "# Probabilidade de ser do Arctic Monkeys dado que a palavra aparece\n",
    "# Teorema de Bayes \n",
    "# P(A|B) = P(B|A) * P(A) / P(B)\n",
    "dict_prob_am_dado_palavra = {}\n",
    "\n",
    "for palavra in dict_prob_am:\n",
    "    dict_prob_am_dado_palavra[palavra] = (dict_prob_am[palavra] * p_am) / dict_prob_both[palavra]"
   ]
  },
  {
   "cell_type": "code",
   "execution_count": 142,
   "metadata": {},
   "outputs": [
    {
     "data": {
      "text/plain": [
       "(137, 359, 111)"
      ]
     },
     "execution_count": 142,
     "metadata": {},
     "output_type": "execute_result"
    }
   ],
   "source": [
    "# def classificador(dict_am, dict_bb, dict_both):\n",
    "#     certo = 0\n",
    "#     errado = 0\n",
    "\n",
    "#     for palavra in dict_both:\n",
    "#         if palavra not in dict_am or palavra not in dict_bb:\n",
    "#             continue\n",
    "#         if dict_am[palavra] > dict_bb[palavra]:\n",
    "#             if dict_prob_am_dado_palavra[palavra] > 0.5:\n",
    "#                 certo += 1\n",
    "#             else:\n",
    "#                 errado += 1\n",
    "#         else:\n",
    "#             if dict_prob_am_dado_palavra[palavra] < 0.5:\n",
    "#                 certo += 1\n",
    "#             else:\n",
    "#                 errado += 1\n",
    "    \n",
    "#     return certo, errado\n",
    "\n",
    "# certo, errado = classificador(dict_prob_am, dict_prob_bb, dict_prob_both)\n",
    "\n",
    "# prob_certo = certo / (certo + errado)\n",
    "\n",
    "# prob_certo\n",
    "\n",
    "def classficador(dict_am, dict_bb, dict_both):\n",
    "    contador_am = 0\n",
    "    contador_bb = 0\n",
    "    contador_both = 0\n",
    "\n",
    "    for palavra in dict_both:\n",
    "        if palavra not in dict_am or palavra not in dict_bb:\n",
    "            continue\n",
    "        if dict_am[palavra] > dict_bb[palavra]:\n",
    "            contador_am += 1\n",
    "        if dict_am[palavra] == dict_bb[palavra]:\n",
    "            contador_both += 1\n",
    "        else:\n",
    "            contador_bb += 1\n",
    "\n",
    "    return contador_am, contador_bb, contador_both\n",
    "\n",
    "contador_am, contador_bb, contador_both = classficador(dict_prob_am, dict_prob_bb, dict_prob_both)\n",
    "\n",
    "contador_am, contador_bb, contador_both"
   ]
  }
 ],
 "metadata": {
  "kernelspec": {
   "display_name": ".venv",
   "language": "python",
   "name": "python3"
  },
  "language_info": {
   "codemirror_mode": {
    "name": "ipython",
    "version": 3
   },
   "file_extension": ".py",
   "mimetype": "text/x-python",
   "name": "python",
   "nbconvert_exporter": "python",
   "pygments_lexer": "ipython3",
   "version": "3.11.4"
  },
  "orig_nbformat": 4
 },
 "nbformat": 4,
 "nbformat_minor": 2
}
