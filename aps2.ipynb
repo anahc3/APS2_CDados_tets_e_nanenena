{
 "cells": [
  {
   "cell_type": "code",
   "execution_count": 10,
   "metadata": {},
   "outputs": [],
   "source": [
    "import pandas as pd\n",
    "import matplotlib as plt\n",
    "\n",
    "df_backstreetboys = pd.read_csv('Dados\\Backstreet_Boys_Lyrics_score.csv') \n",
    "df_backstreetboys = df_backstreetboys.drop(columns=[\"Unnamed: 0\", \"Unnamed: 0.1\"]) # Remove colunas desnecessárias\n",
    "\n",
    "df_arcticmonkeys = pd.read_csv('Dados\\lyrics.csv')"
   ]
  },
  {
   "cell_type": "code",
   "execution_count": 37,
   "metadata": {},
   "outputs": [],
   "source": [
    "# Divide o dataset em 2, um para cada banda\n",
    "metade_bb = len(df_backstreetboys) // 2\n",
    "metade_am = len(df_arcticmonkeys) // 2\n",
    "\n",
    "df_bb_treino = df_backstreetboys.iloc[:metade_bb, :] # Seleciona as primeiras linhas do dataset\n",
    "df_bb_teste = df_backstreetboys.iloc[metade_bb:, :] # Seleciona as últimas linhas do dataset\n",
    "\n",
    "df_am_treino = df_arcticmonkeys.iloc[:metade_am, :] # Seleciona as primeiras linhas do dataset\n",
    "df_am_teste = df_arcticmonkeys.iloc[metade_am:, :] # Seleciona as últimas linhas do dataset"
   ]
  },
  {
   "cell_type": "code",
   "execution_count": 38,
   "metadata": {},
   "outputs": [],
   "source": [
    "# Probabilidade de ser de cada banda\n",
    "\n",
    "p_am = len(df_am_treino) / (len(df_am_treino) + len(df_bb_treino))\n",
    "p_bb = len(df_bb_treino) / (len(df_am_treino) + len(df_bb_treino))"
   ]
  },
  {
   "cell_type": "code",
   "execution_count": 39,
   "metadata": {},
   "outputs": [
    {
     "name": "stderr",
     "output_type": "stream",
     "text": [
      "C:\\Users\\anaca\\AppData\\Local\\Temp\\ipykernel_2828\\3485947110.py:5: SettingWithCopyWarning: \n",
      "A value is trying to be set on a copy of a slice from a DataFrame.\n",
      "Try using .loc[row_indexer,col_indexer] = value instead\n",
      "\n",
      "See the caveats in the documentation: https://pandas.pydata.org/pandas-docs/stable/user_guide/indexing.html#returning-a-view-versus-a-copy\n",
      "  df_am_treino['palavras'] = df_am_treino['lyrics'].apply(separador_palavra) # Aplica a função separador_palavra a cada linha da coluna lyrics\n",
      "C:\\Users\\anaca\\AppData\\Local\\Temp\\ipykernel_2828\\3485947110.py:12: SettingWithCopyWarning: \n",
      "A value is trying to be set on a copy of a slice from a DataFrame.\n",
      "Try using .loc[row_indexer,col_indexer] = value instead\n",
      "\n",
      "See the caveats in the documentation: https://pandas.pydata.org/pandas-docs/stable/user_guide/indexing.html#returning-a-view-versus-a-copy\n",
      "  df_bb_treino['palavras'] = df_bb_treino['Lyrics'].apply(separador_palavra)\n"
     ]
    }
   ],
   "source": [
    "def separador_palavra(text):\n",
    "    return text.split() # Separa o texto em palavras a partir dos espaços\n",
    "\n",
    "# Probabilidade de cada palavra aparecer em Arctic Monkeys\n",
    "df_am_treino['palavras'] = df_am_treino['lyrics'].apply(separador_palavra) # Aplica a função separador_palavra a cada linha da coluna lyrics\n",
    "palavras_am = df_am_treino['palavras'].explode() # Transforma a coluna palavras em um novo df para calcular a frequência de cada palavra corretamente\n",
    "contador_am = palavras_am.value_counts()\n",
    "total_am = len(palavras_am)\n",
    "p_palavras_dado_am = contador_am / total_am\n",
    "\n",
    "# Probabilidade de cada palavra aparecer em Backstreet Boys\n",
    "df_bb_treino['palavras'] = df_bb_treino['Lyrics'].apply(separador_palavra) \n",
    "palavras_bb = df_bb_treino['palavras'].explode()\n",
    "contador_bb = palavras_bb.value_counts()\n",
    "total_bb = len(palavras_bb)\n",
    "p_palavras_dado_bb = contador_bb / total_bb"
   ]
  }
 ],
 "metadata": {
  "kernelspec": {
   "display_name": ".venv",
   "language": "python",
   "name": "python3"
  },
  "language_info": {
   "codemirror_mode": {
    "name": "ipython",
    "version": 3
   },
   "file_extension": ".py",
   "mimetype": "text/x-python",
   "name": "python",
   "nbconvert_exporter": "python",
   "pygments_lexer": "ipython3",
   "version": "3.11.4"
  },
  "orig_nbformat": 4
 },
 "nbformat": 4,
 "nbformat_minor": 2
}
