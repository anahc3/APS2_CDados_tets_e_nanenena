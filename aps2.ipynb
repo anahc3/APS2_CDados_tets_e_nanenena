{
 "cells": [
  {
   "cell_type": "code",
   "execution_count": 83,
   "metadata": {},
   "outputs": [],
   "source": [
    "import pandas as pd\n",
    "import matplotlib as plt\n",
    "\n",
    "df_backstreetboys = pd.read_csv('Dados\\Backstreet_Boys_Lyrics_score.csv') \n",
    "df_backstreetboys = df_backstreetboys.drop(columns=[\"Unnamed: 0\", \"Unnamed: 0.1\"]) # Remove colunas desnecessárias\n",
    "\n",
    "df_arcticmonkeys = pd.read_csv('Dados\\lyrics.csv')\n"
   ]
  },
  {
   "cell_type": "code",
   "execution_count": 84,
   "metadata": {},
   "outputs": [],
   "source": [
    "# Divide o dataset em 2, um para cada banda\n",
    "df_bb_treino = df_backstreetboys.iloc[:49] # Seleciona as primeiras linhas do dataset\n",
    "df_bb_teste = df_backstreetboys.iloc[50:100] # Seleciona as últimas linhas do dataset\n",
    "\n",
    "df_am_treino = df_arcticmonkeys.iloc[:49] # Seleciona as primeiras linhas do dataset\n",
    "df_am_teste = df_arcticmonkeys.iloc[50:100] # Seleciona as últimas linhas do dataset\n",
    "\n"
   ]
  },
  {
   "cell_type": "code",
   "execution_count": 85,
   "metadata": {},
   "outputs": [],
   "source": [
    "# Probabilidade de ser de cada banda\n",
    "\n",
    "p_am = len(df_am_treino) / (len(df_am_treino) + len(df_bb_treino))\n",
    "p_bb = len(df_bb_treino) / (len(df_am_treino) + len(df_bb_treino))"
   ]
  },
  {
   "cell_type": "code",
   "execution_count": 86,
   "metadata": {},
   "outputs": [],
   "source": [
    "def separador_palavra(text):\n",
    "    return text.split() # Separa o texto em palavras a partir dos espaços\n",
    "\n",
    "# Probabilidade de cada palavra aparecer em Arctic Monkeys\n",
    "dict_am = {}\n",
    "dict_palavras_am = {}\n",
    "\n",
    "for musica_am in df_am_treino['lyrics']:\n",
    "    musica_am = musica_am.lower().replace(',', '').replace('.', '').replace('?', '').replace('!', '').replace('(', '').replace(')', '').replace(';', '').replace(':', '').replace('\"', '').replace(\"'\", '').replace('-', '').replace('[', '').replace(']', '').replace('\\r\\n', ' ')\n",
    "    dict_am['palavras'] = separador_palavra(musica_am) # Aplica a função separador_palavra a cada linha da coluna lyrics\n",
    "    df_am_novo = pd.DataFrame(dict_am)\n",
    "    palavras_am = df_am_novo['palavras'].explode() # Transforma a coluna palavras em um novo df para calcular a frequência de cada palavra corretamente\n",
    "\n",
    "    palavras_unicas_am = palavras_am.unique() # Remove palavras repetidas\n",
    "\n",
    "    for palavra_am in palavras_unicas_am:\n",
    "        if palavra_am not in dict_palavras_am:\n",
    "            dict_palavras_am[palavra_am] = 1\n",
    "        else:\n",
    "            dict_palavras_am[palavra_am] += 1\n",
    "\n",
    "dict_prob_am = {}\n",
    "\n",
    "for palavra_am in dict_palavras_am:\n",
    "    dict_prob_am[palavra_am] = dict_palavras_am[palavra_am] / len(df_am_treino)"
   ]
  },
  {
   "cell_type": "code",
   "execution_count": 87,
   "metadata": {},
   "outputs": [],
   "source": [
    "# Probabilidade de cada palavra aparecer em Backstreets Boys\n",
    "dict_bb = {}\n",
    "dict_palavras_bb = {}\n",
    "\n",
    "for musica_bb in df_bb_treino['Lyrics']:\n",
    "    musica_bb = musica_bb.lower().replace(',', '').replace('.', '').replace('?', '').replace('!', '').replace('(', '').replace(')', '').replace(';', '').replace(':', '').replace('\"', '').replace(\"'\", '').replace('-', '').replace('[', '').replace(']', '').replace('\\r\\n', ' ')\n",
    "    dict_bb['palavras'] = separador_palavra(musica_bb) # Aplica a função separador_palavra a cada linha da coluna lyrics\n",
    "    df_bb_novo = pd.DataFrame(dict_bb)\n",
    "    palavras_bb = df_bb_novo['palavras'].explode() # Transforma a coluna palavras em um novo df para calcular a frequência de cada palavra corretamente\n",
    "\n",
    "    palavras_unicas_bb = palavras_bb.unique() # Remove palavras repetidas\n",
    "\n",
    "    for palavra_bb in palavras_unicas_bb:\n",
    "        if palavra_bb not in dict_palavras_bb:\n",
    "            dict_palavras_bb[palavra_bb] = 1\n",
    "        else:\n",
    "            dict_palavras_bb[palavra_bb] += 1\n",
    "\n",
    "dict_prob_bb = {}\n",
    "\n",
    "for palavra_bb in dict_palavras_bb:\n",
    "    dict_prob_bb[palavra_bb] = dict_palavras_bb[palavra_bb] / len(df_bb_treino)"
   ]
  },
  {
   "cell_type": "code",
   "execution_count": 88,
   "metadata": {},
   "outputs": [],
   "source": [
    "# Probabilidade de cada palavra aparecer em ambas as bandas\n",
    "dict_palavras_both = {}\n",
    "\n",
    "for palavra_am_new in dict_palavras_am:\n",
    "    dict_palavras_both[palavra_am_new] = dict_palavras_am[palavra_am_new]\n",
    "\n",
    "for palavra_bb_new in dict_palavras_bb:\n",
    "    if palavra_bb_new not in dict_palavras_both:\n",
    "        dict_palavras_both[palavra_bb_new] = dict_palavras_bb[palavra_bb_new]\n",
    "    else:\n",
    "        dict_palavras_both[palavra_bb_new] += dict_palavras_bb[palavra_bb_new]\n",
    "\n",
    "dict_prob_both = {}\n",
    "\n",
    "for palavra_both in dict_palavras_both:\n",
    "    dict_prob_both[palavra_both] = dict_palavras_both[palavra_both] / (len(df_am_treino) + len(df_bb_treino))\n",
    "\n"
   ]
  },
  {
   "cell_type": "code",
   "execution_count": 95,
   "metadata": {},
   "outputs": [
    {
     "name": "stdout",
     "output_type": "stream",
     "text": [
      "0.7755102040816326\n",
      "0.5\n",
      "0.3877551020408163\n"
     ]
    }
   ],
   "source": [
    "# Probabilidade de ser do Arctic Monkeys dado que a palavra aparece\n",
    "# Teorema de Bayes \n",
    "# P(A|B) = P(B|A) * P(A) / P(B)\n",
    "dict_prob_am_dado_palavra = {}\n",
    "\n",
    "for palavra in dict_prob_am:\n",
    "    dict_prob_am_dado_palavra[palavra] = (dict_prob_am[palavra] * p_am) / dict_prob_both[palavra]\n",
    "\n"
   ]
  }
 ],
 "metadata": {
  "kernelspec": {
   "display_name": ".venv",
   "language": "python",
   "name": "python3"
  },
  "language_info": {
   "codemirror_mode": {
    "name": "ipython",
    "version": 3
   },
   "file_extension": ".py",
   "mimetype": "text/x-python",
   "name": "python",
   "nbconvert_exporter": "python",
   "pygments_lexer": "ipython3",
   "version": "3.11.4"
  },
  "orig_nbformat": 4
 },
 "nbformat": 4,
 "nbformat_minor": 2
}
